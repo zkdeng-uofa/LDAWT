{
 "cells": [
  {
   "cell_type": "code",
   "execution_count": 2,
   "metadata": {},
   "outputs": [],
   "source": [
    "import ndcctools.taskvine as vine\n",
    "import json\n",
    "import os"
   ]
  },
  {
   "cell_type": "code",
   "execution_count": 5,
   "metadata": {},
   "outputs": [
    {
     "name": "stdout",
     "output_type": "stream",
     "text": [
      "10.2.192.215 172.18.0.1 172.17.0.1 172.19.0.1 \n"
     ]
    }
   ],
   "source": [
    "%%bash\n",
    "hostname -I"
   ]
  },
  {
   "cell_type": "code",
   "execution_count": 4,
   "metadata": {},
   "outputs": [
    {
     "name": "stdout",
     "output_type": "stream",
     "text": [
      "group_1.parquet\n",
      "group_2.parquet\n"
     ]
    }
   ],
   "source": [
    "%%bash\n",
    "ls ../examples/2split  "
   ]
  },
  {
   "cell_type": "code",
   "execution_count": 3,
   "metadata": {},
   "outputs": [
    {
     "name": "stdout",
     "output_type": "stream",
     "text": [
      "Could not determine size for http://inaturalist-open-data.s3.amazonaws.com/photos/123069550/large.jpg\n",
      "Could not determine size for http://inaturalist-open-data.s3.amazonaws.com/photos/123069576/large.jpg\n",
      "Could not determine size for http://inaturalist-open-data.s3.amazonaws.com/photos/262455966/large.jpg\n",
      "Could not determine size for http://inaturalist-open-data.s3.amazonaws.com/photos/74089719/large.jpeg\n",
      "Could not determine size for http://inaturalist-open-data.s3.amazonaws.com/photos/267523068/large.jpg\n",
      "Could not determine size for http://inaturalist-open-data.s3.amazonaws.com/photos/123069528/large.jpg\n",
      "Could not determine size for http://inaturalist-open-data.s3.amazonaws.com/photos/294361005/large.jpg\n",
      "Could not determine size for http://inaturalist-open-data.s3.amazonaws.com/photos/344439301/large.jpeg\n",
      "Could not determine size for http://inaturalist-open-data.s3.amazonaws.com/photos/202843151/large.jpg\n",
      "Could not determine size for http://inaturalist-open-data.s3.amazonaws.com/photos/57856701/large.jpg\n",
      "Could not determine size for http://inaturalist-open-data.s3.amazonaws.com/photos/66808632/large.jpeg\n",
      "Could not determine size for http://inaturalist-open-data.s3.amazonaws.com/photos/207498786/large.jpg\n",
      "Could not determine size for http://inaturalist-open-data.s3.amazonaws.com/photos/269390774/large.jpg\n",
      "Could not determine size for http://inaturalist-open-data.s3.amazonaws.com/photos/2604639/large.png\n",
      "Could not determine size for http://inaturalist-open-data.s3.amazonaws.com/photos/69282910/large.jpg\n",
      "Could not determine size for http://inaturalist-open-data.s3.amazonaws.com/photos/200595555/large.jpeg\n",
      "Total Size: 8457.62 MB (8.26 GB)\n"
     ]
    },
    {
     "name": "stderr",
     "output_type": "stream",
     "text": [
      "\n",
      "real\t0m21.450s\n",
      "user\t0m10.973s\n",
      "sys\t0m1.115s\n"
     ]
    }
   ],
   "source": [
    "%%bash\n",
    "time python ../bin/CalcDatasetSize.py --directory example_files/2split"
   ]
  },
  {
   "cell_type": "code",
   "execution_count": 7,
   "metadata": {},
   "outputs": [
    {
     "name": "stdout",
     "output_type": "stream",
     "text": [
      "Listening on port 9124\n",
      "Waiting for tasks to complete...\n"
     ]
    },
    {
     "ename": "TypeError",
     "evalue": "%d format: a real number is required, not NoneType",
     "output_type": "error",
     "traceback": [
      "\u001b[31m---------------------------------------------------------------------------\u001b[39m",
      "\u001b[31mCalledProcessError\u001b[39m                        Traceback (most recent call last)",
      "    \u001b[31m[... skipping hidden 1 frame]\u001b[39m\n",
      "\u001b[36mCell\u001b[39m\u001b[36m \u001b[39m\u001b[32mIn[8]\u001b[39m\u001b[32m, line 1\u001b[39m\n\u001b[32m----> \u001b[39m\u001b[32m1\u001b[39m get_ipython().run_cell_magic(\u001b[33m'\u001b[39m\u001b[33mbash\u001b[39m\u001b[33m'\u001b[39m, \u001b[33m'\u001b[39m\u001b[33m'\u001b[39m, \u001b[33m'\u001b[39m\u001b[33mpython ../bin/TaskvineLDAWTCloud.py --config_file ../files/config_files/taskvineCloud.json\u001b[39m\u001b[38;5;130;01m\\n\u001b[39;00m\u001b[33m'\u001b[39m)\n",
      "\u001b[36mFile \u001b[39m\u001b[32m~/micromamba/envs/LDAWT/lib/python3.13/site-packages/IPython/core/interactiveshell.py:2547\u001b[39m, in \u001b[36mInteractiveShell.run_cell_magic\u001b[39m\u001b[34m(self, magic_name, line, cell)\u001b[39m\n\u001b[32m   2546\u001b[39m     args = (magic_arg_s, cell)\n\u001b[32m-> \u001b[39m\u001b[32m2547\u001b[39m     result = fn(*args, **kwargs)\n\u001b[32m   2549\u001b[39m \u001b[38;5;66;03m# The code below prevents the output from being displayed\u001b[39;00m\n\u001b[32m   2550\u001b[39m \u001b[38;5;66;03m# when using magics with decorator @output_can_be_silenced\u001b[39;00m\n\u001b[32m   2551\u001b[39m \u001b[38;5;66;03m# when the last Python token in the expression is a ';'.\u001b[39;00m\n",
      "\u001b[36mFile \u001b[39m\u001b[32m~/micromamba/envs/LDAWT/lib/python3.13/site-packages/IPython/core/magics/script.py:159\u001b[39m, in \u001b[36mScriptMagics._make_script_magic.<locals>.named_script_magic\u001b[39m\u001b[34m(line, cell)\u001b[39m\n\u001b[32m    158\u001b[39m     line = script\n\u001b[32m--> \u001b[39m\u001b[32m159\u001b[39m \u001b[38;5;28;01mreturn\u001b[39;00m \u001b[38;5;28mself\u001b[39m.shebang(line, cell)\n",
      "\u001b[36mFile \u001b[39m\u001b[32m~/micromamba/envs/LDAWT/lib/python3.13/site-packages/IPython/core/magics/script.py:327\u001b[39m, in \u001b[36mScriptMagics.shebang\u001b[39m\u001b[34m(self, line, cell)\u001b[39m\n\u001b[32m    326\u001b[39m \u001b[38;5;28;01mif\u001b[39;00m args.raise_error:\n\u001b[32m--> \u001b[39m\u001b[32m327\u001b[39m     \u001b[38;5;28;01mraise\u001b[39;00m CalledProcessError(p.returncode, cell) \u001b[38;5;28;01mfrom\u001b[39;00m\u001b[38;5;250m \u001b[39m\u001b[38;5;28;01mNone\u001b[39;00m\n\u001b[32m    328\u001b[39m \u001b[38;5;28;01melse\u001b[39;00m:\n",
      "\u001b[31m<class 'str'>\u001b[39m: (<class 'TypeError'>, TypeError('%d format: a real number is required, not NoneType'))",
      "\nDuring handling of the above exception, another exception occurred:\n",
      "\u001b[31mTypeError\u001b[39m                                 Traceback (most recent call last)",
      "    \u001b[31m[... skipping hidden 1 frame]\u001b[39m\n",
      "\u001b[36mFile \u001b[39m\u001b[32m~/micromamba/envs/LDAWT/lib/python3.13/site-packages/IPython/core/interactiveshell.py:2187\u001b[39m, in \u001b[36mInteractiveShell.showtraceback\u001b[39m\u001b[34m(self, exc_tuple, filename, tb_offset, exception_only, running_compiled_code)\u001b[39m\n\u001b[32m   2184\u001b[39m         traceback.print_exc()\n\u001b[32m   2185\u001b[39m         \u001b[38;5;28;01mreturn\u001b[39;00m \u001b[38;5;28;01mNone\u001b[39;00m\n\u001b[32m-> \u001b[39m\u001b[32m2187\u001b[39m     \u001b[38;5;28mself\u001b[39m._showtraceback(etype, value, stb)\n\u001b[32m   2188\u001b[39m \u001b[38;5;28;01mif\u001b[39;00m \u001b[38;5;28mself\u001b[39m.call_pdb:\n\u001b[32m   2189\u001b[39m     \u001b[38;5;66;03m# drop into debugger\u001b[39;00m\n\u001b[32m   2190\u001b[39m     \u001b[38;5;28mself\u001b[39m.debugger(force=\u001b[38;5;28;01mTrue\u001b[39;00m)\n",
      "\u001b[36mFile \u001b[39m\u001b[32m~/micromamba/envs/LDAWT/lib/python3.13/site-packages/ipykernel/zmqshell.py:559\u001b[39m, in \u001b[36mZMQInteractiveShell._showtraceback\u001b[39m\u001b[34m(self, etype, evalue, stb)\u001b[39m\n\u001b[32m    553\u001b[39m sys.stdout.flush()\n\u001b[32m    554\u001b[39m sys.stderr.flush()\n\u001b[32m    556\u001b[39m exc_content = {\n\u001b[32m    557\u001b[39m     \u001b[33m\"\u001b[39m\u001b[33mtraceback\u001b[39m\u001b[33m\"\u001b[39m: stb,\n\u001b[32m    558\u001b[39m     \u001b[33m\"\u001b[39m\u001b[33mename\u001b[39m\u001b[33m\"\u001b[39m: \u001b[38;5;28mstr\u001b[39m(etype.\u001b[34m__name__\u001b[39m),\n\u001b[32m--> \u001b[39m\u001b[32m559\u001b[39m     \u001b[33m\"\u001b[39m\u001b[33mevalue\u001b[39m\u001b[33m\"\u001b[39m: \u001b[38;5;28mstr\u001b[39m(evalue),\n\u001b[32m    560\u001b[39m }\n\u001b[32m    562\u001b[39m dh = \u001b[38;5;28mself\u001b[39m.displayhook\n\u001b[32m    563\u001b[39m \u001b[38;5;66;03m# Send exception info over pub socket for other clients than the caller\u001b[39;00m\n\u001b[32m    564\u001b[39m \u001b[38;5;66;03m# to pick up\u001b[39;00m\n",
      "\u001b[36mFile \u001b[39m\u001b[32m~/micromamba/envs/LDAWT/lib/python3.13/subprocess.py:154\u001b[39m, in \u001b[36mCalledProcessError.__str__\u001b[39m\u001b[34m(self)\u001b[39m\n\u001b[32m    151\u001b[39m         \u001b[38;5;28;01mreturn\u001b[39;00m \u001b[33m\"\u001b[39m\u001b[33mCommand \u001b[39m\u001b[33m'\u001b[39m\u001b[38;5;132;01m%s\u001b[39;00m\u001b[33m'\u001b[39m\u001b[33m died with unknown signal \u001b[39m\u001b[38;5;132;01m%d\u001b[39;00m\u001b[33m.\u001b[39m\u001b[33m\"\u001b[39m % (\n\u001b[32m    152\u001b[39m                 \u001b[38;5;28mself\u001b[39m.cmd, -\u001b[38;5;28mself\u001b[39m.returncode)\n\u001b[32m    153\u001b[39m \u001b[38;5;28;01melse\u001b[39;00m:\n\u001b[32m--> \u001b[39m\u001b[32m154\u001b[39m     \u001b[38;5;28;01mreturn\u001b[39;00m \u001b[33m\"\u001b[39m\u001b[33mCommand \u001b[39m\u001b[33m'\u001b[39m\u001b[38;5;132;01m%s\u001b[39;00m\u001b[33m'\u001b[39m\u001b[33m returned non-zero exit status \u001b[39m\u001b[38;5;132;01m%d\u001b[39;00m\u001b[33m.\u001b[39m\u001b[33m\"\u001b[39m % (\n\u001b[32m    155\u001b[39m             \u001b[38;5;28mself\u001b[39m.cmd, \u001b[38;5;28mself\u001b[39m.returncode)\n",
      "\u001b[31mTypeError\u001b[39m: %d format: a real number is required, not NoneType"
     ]
    },
    {
     "ename": "TypeError",
     "evalue": "%d format: a real number is required, not NoneType",
     "output_type": "error",
     "traceback": [
      "\u001b[31m---------------------------------------------------------------------------\u001b[39m",
      "\u001b[31mTypeError\u001b[39m                                 Traceback (most recent call last)",
      "\u001b[36mFile \u001b[39m\u001b[32m~/micromamba/envs/LDAWT/lib/python3.13/site-packages/IPython/core/async_helpers.py:128\u001b[39m, in \u001b[36m_pseudo_sync_runner\u001b[39m\u001b[34m(coro)\u001b[39m\n\u001b[32m    120\u001b[39m \u001b[38;5;250m\u001b[39m\u001b[33;03m\"\"\"\u001b[39;00m\n\u001b[32m    121\u001b[39m \u001b[33;03mA runner that does not really allow async execution, and just advance the coroutine.\u001b[39;00m\n\u001b[32m    122\u001b[39m \n\u001b[32m   (...)\u001b[39m\u001b[32m    125\u001b[39m \u001b[33;03mCredit to Nathaniel Smith\u001b[39;00m\n\u001b[32m    126\u001b[39m \u001b[33;03m\"\"\"\u001b[39;00m\n\u001b[32m    127\u001b[39m \u001b[38;5;28;01mtry\u001b[39;00m:\n\u001b[32m--> \u001b[39m\u001b[32m128\u001b[39m     coro.send(\u001b[38;5;28;01mNone\u001b[39;00m)\n\u001b[32m    129\u001b[39m \u001b[38;5;28;01mexcept\u001b[39;00m \u001b[38;5;167;01mStopIteration\u001b[39;00m \u001b[38;5;28;01mas\u001b[39;00m exc:\n\u001b[32m    130\u001b[39m     \u001b[38;5;28;01mreturn\u001b[39;00m exc.value\n",
      "\u001b[36mFile \u001b[39m\u001b[32m~/micromamba/envs/LDAWT/lib/python3.13/site-packages/IPython/core/interactiveshell.py:3381\u001b[39m, in \u001b[36mInteractiveShell.run_cell_async\u001b[39m\u001b[34m(self, raw_cell, store_history, silent, shell_futures, transformed_cell, preprocessing_exc_tuple, cell_id)\u001b[39m\n\u001b[32m   3377\u001b[39m exec_count = \u001b[38;5;28mself\u001b[39m.execution_count\n\u001b[32m   3378\u001b[39m \u001b[38;5;28;01mif\u001b[39;00m result.error_in_exec:\n\u001b[32m   3379\u001b[39m     \u001b[38;5;66;03m# Store formatted traceback and error details\u001b[39;00m\n\u001b[32m   3380\u001b[39m     \u001b[38;5;28mself\u001b[39m.history_manager.exceptions[exec_count] = (\n\u001b[32m-> \u001b[39m\u001b[32m3381\u001b[39m         \u001b[38;5;28mself\u001b[39m._format_exception_for_storage(result.error_in_exec)\n\u001b[32m   3382\u001b[39m     )\n\u001b[32m   3384\u001b[39m \u001b[38;5;66;03m# Each cell is a *single* input, regardless of how many lines it has\u001b[39;00m\n\u001b[32m   3385\u001b[39m \u001b[38;5;28mself\u001b[39m.execution_count += \u001b[32m1\u001b[39m\n",
      "\u001b[36mFile \u001b[39m\u001b[32m~/micromamba/envs/LDAWT/lib/python3.13/site-packages/IPython/core/interactiveshell.py:3442\u001b[39m, in \u001b[36mInteractiveShell._format_exception_for_storage\u001b[39m\u001b[34m(self, exception, filename, running_compiled_code)\u001b[39m\n\u001b[32m   3438\u001b[39m         \u001b[38;5;28;01mexcept\u001b[39;00m \u001b[38;5;167;01mException\u001b[39;00m:\n\u001b[32m   3439\u001b[39m             \u001b[38;5;66;03m# In case formatting fails, fallback to Python's built-in formatting.\u001b[39;00m\n\u001b[32m   3440\u001b[39m             stb = traceback.format_exception(etype, evalue, tb)\n\u001b[32m-> \u001b[39m\u001b[32m3442\u001b[39m \u001b[38;5;28;01mreturn\u001b[39;00m {\u001b[33m\"\u001b[39m\u001b[33mename\u001b[39m\u001b[33m\"\u001b[39m: etype.\u001b[34m__name__\u001b[39m, \u001b[33m\"\u001b[39m\u001b[33mevalue\u001b[39m\u001b[33m\"\u001b[39m: \u001b[38;5;28mstr\u001b[39m(evalue), \u001b[33m\"\u001b[39m\u001b[33mtraceback\u001b[39m\u001b[33m\"\u001b[39m: stb}\n",
      "\u001b[36mFile \u001b[39m\u001b[32m~/micromamba/envs/LDAWT/lib/python3.13/subprocess.py:154\u001b[39m, in \u001b[36mCalledProcessError.__str__\u001b[39m\u001b[34m(self)\u001b[39m\n\u001b[32m    151\u001b[39m         \u001b[38;5;28;01mreturn\u001b[39;00m \u001b[33m\"\u001b[39m\u001b[33mCommand \u001b[39m\u001b[33m'\u001b[39m\u001b[38;5;132;01m%s\u001b[39;00m\u001b[33m'\u001b[39m\u001b[33m died with unknown signal \u001b[39m\u001b[38;5;132;01m%d\u001b[39;00m\u001b[33m.\u001b[39m\u001b[33m\"\u001b[39m % (\n\u001b[32m    152\u001b[39m                 \u001b[38;5;28mself\u001b[39m.cmd, -\u001b[38;5;28mself\u001b[39m.returncode)\n\u001b[32m    153\u001b[39m \u001b[38;5;28;01melse\u001b[39;00m:\n\u001b[32m--> \u001b[39m\u001b[32m154\u001b[39m     \u001b[38;5;28;01mreturn\u001b[39;00m \u001b[33m\"\u001b[39m\u001b[33mCommand \u001b[39m\u001b[33m'\u001b[39m\u001b[38;5;132;01m%s\u001b[39;00m\u001b[33m'\u001b[39m\u001b[33m returned non-zero exit status \u001b[39m\u001b[38;5;132;01m%d\u001b[39;00m\u001b[33m.\u001b[39m\u001b[33m\"\u001b[39m % (\n\u001b[32m    155\u001b[39m             \u001b[38;5;28mself\u001b[39m.cmd, \u001b[38;5;28mself\u001b[39m.returncode)\n",
      "\u001b[31mTypeError\u001b[39m: %d format: a real number is required, not NoneType"
     ]
    }
   ],
   "source": [
    "%%bash\n",
    "python ../bin/TaskvineLDAWTCloud.py --config_file ../files/config_files/taskvineCloud.json"
   ]
  },
  {
   "cell_type": "code",
   "execution_count": 5,
   "metadata": {},
   "outputs": [
    {
     "name": "stdout",
     "output_type": "stream",
     "text": [
      "bin\n",
      "environment.yml\n",
      "examples\n",
      "files\n",
      "gbif_data.duckdb\n",
      "jupyter\n",
      "OPTIMIZATION_GUIDE.md\n",
      "README.md\n"
     ]
    }
   ],
   "source": [
    "%%bash\n",
    "ls .."
   ]
  },
  {
   "cell_type": "code",
   "execution_count": null,
   "metadata": {},
   "outputs": [
    {
     "data": {
      "text/html": [
       "<div>\n",
       "<style scoped>\n",
       "    .dataframe tbody tr th:only-of-type {\n",
       "        vertical-align: middle;\n",
       "    }\n",
       "\n",
       "    .dataframe tbody tr th {\n",
       "        vertical-align: top;\n",
       "    }\n",
       "\n",
       "    .dataframe thead th {\n",
       "        text-align: right;\n",
       "    }\n",
       "</style>\n",
       "<table border=\"1\" class=\"dataframe\">\n",
       "  <thead>\n",
       "    <tr style=\"text-align: right;\">\n",
       "      <th></th>\n",
       "      <th>gbifID</th>\n",
       "      <th>datasetKey</th>\n",
       "      <th>occurrenceID</th>\n",
       "      <th>individualCount</th>\n",
       "      <th>sex</th>\n",
       "      <th>lifeStage</th>\n",
       "      <th>eventDate</th>\n",
       "      <th>kingdom</th>\n",
       "      <th>phylum</th>\n",
       "      <th>class</th>\n",
       "      <th>family</th>\n",
       "      <th>genus</th>\n",
       "      <th>species</th>\n",
       "      <th>datasetName</th>\n",
       "    </tr>\n",
       "  </thead>\n",
       "  <tbody>\n",
       "    <tr>\n",
       "      <th>0</th>\n",
       "      <td>3727011185</td>\n",
       "      <td>8a863029-f435-446a-821e-275f4f641165</td>\n",
       "      <td>https://observation.org/observation/199755080</td>\n",
       "      <td>1</td>\n",
       "      <td>None</td>\n",
       "      <td>Imago</td>\n",
       "      <td>2020-09-02</td>\n",
       "      <td>Animalia</td>\n",
       "      <td>Arthropoda</td>\n",
       "      <td>Insecta</td>\n",
       "      <td>Nymphalidae</td>\n",
       "      <td>Aglais</td>\n",
       "      <td>Aglais io</td>\n",
       "      <td>Observation.org, Nature data from around the W...</td>\n",
       "    </tr>\n",
       "    <tr>\n",
       "      <th>1</th>\n",
       "      <td>3726821348</td>\n",
       "      <td>8a863029-f435-446a-821e-275f4f641165</td>\n",
       "      <td>https://observation.org/observation/199975176</td>\n",
       "      <td>1</td>\n",
       "      <td>None</td>\n",
       "      <td>Imago</td>\n",
       "      <td>2020-09-12</td>\n",
       "      <td>Animalia</td>\n",
       "      <td>Arthropoda</td>\n",
       "      <td>Insecta</td>\n",
       "      <td>Apidae</td>\n",
       "      <td>Apis</td>\n",
       "      <td>Apis mellifera</td>\n",
       "      <td>Observation.org, Nature data from around the W...</td>\n",
       "    </tr>\n",
       "    <tr>\n",
       "      <th>2</th>\n",
       "      <td>3728397952</td>\n",
       "      <td>8a863029-f435-446a-821e-275f4f641165</td>\n",
       "      <td>https://observation.org/observation/200915841</td>\n",
       "      <td>1</td>\n",
       "      <td>None</td>\n",
       "      <td>Imago</td>\n",
       "      <td>2020-10-01</td>\n",
       "      <td>Animalia</td>\n",
       "      <td>Arthropoda</td>\n",
       "      <td>Insecta</td>\n",
       "      <td>Sphingidae</td>\n",
       "      <td>Acherontia</td>\n",
       "      <td>Acherontia atropos</td>\n",
       "      <td>Observation.org, Nature data from around the W...</td>\n",
       "    </tr>\n",
       "    <tr>\n",
       "      <th>3</th>\n",
       "      <td>3729197905</td>\n",
       "      <td>8a863029-f435-446a-821e-275f4f641165</td>\n",
       "      <td>https://observation.org/observation/203869792</td>\n",
       "      <td>1</td>\n",
       "      <td>Female</td>\n",
       "      <td>None</td>\n",
       "      <td>2009-06-23</td>\n",
       "      <td>Animalia</td>\n",
       "      <td>Arthropoda</td>\n",
       "      <td>Insecta</td>\n",
       "      <td>Apidae</td>\n",
       "      <td>Bombus</td>\n",
       "      <td>Bombus terrestris</td>\n",
       "      <td>Observation.org, Nature data from around the W...</td>\n",
       "    </tr>\n",
       "    <tr>\n",
       "      <th>4</th>\n",
       "      <td>4956366316</td>\n",
       "      <td>8a863029-f435-446a-821e-275f4f641165</td>\n",
       "      <td>https://observation.org/observation/206509745</td>\n",
       "      <td>1</td>\n",
       "      <td>Male</td>\n",
       "      <td>Imago</td>\n",
       "      <td>2020-07-22</td>\n",
       "      <td>Animalia</td>\n",
       "      <td>Arthropoda</td>\n",
       "      <td>Insecta</td>\n",
       "      <td>Sphecidae</td>\n",
       "      <td>Ammophila</td>\n",
       "      <td>Ammophila sabulosa</td>\n",
       "      <td>Observation.org, Nature data from around the W...</td>\n",
       "    </tr>\n",
       "    <tr>\n",
       "      <th>...</th>\n",
       "      <td>...</td>\n",
       "      <td>...</td>\n",
       "      <td>...</td>\n",
       "      <td>...</td>\n",
       "      <td>...</td>\n",
       "      <td>...</td>\n",
       "      <td>...</td>\n",
       "      <td>...</td>\n",
       "      <td>...</td>\n",
       "      <td>...</td>\n",
       "      <td>...</td>\n",
       "      <td>...</td>\n",
       "      <td>...</td>\n",
       "      <td>...</td>\n",
       "    </tr>\n",
       "    <tr>\n",
       "      <th>36435009</th>\n",
       "      <td>2238759095</td>\n",
       "      <td>6ec3c7f5-6233-48f6-b36a-06b867edbadd</td>\n",
       "      <td>urn:catalog:CAS:TYPE:15037</td>\n",
       "      <td>1</td>\n",
       "      <td>None</td>\n",
       "      <td>Adult</td>\n",
       "      <td>1979-08-02</td>\n",
       "      <td>Animalia</td>\n",
       "      <td>Arthropoda</td>\n",
       "      <td>Insecta</td>\n",
       "      <td>Dermestidae</td>\n",
       "      <td>Novelsis</td>\n",
       "      <td>Novelsis sabulorum</td>\n",
       "      <td>CAS Entomology Type (TYPE)</td>\n",
       "    </tr>\n",
       "    <tr>\n",
       "      <th>36435010</th>\n",
       "      <td>2238758948</td>\n",
       "      <td>6ec3c7f5-6233-48f6-b36a-06b867edbadd</td>\n",
       "      <td>urn:catalog:CAS:TYPE:15081</td>\n",
       "      <td>1</td>\n",
       "      <td>Male</td>\n",
       "      <td>Adult</td>\n",
       "      <td>1977-06-04</td>\n",
       "      <td>Animalia</td>\n",
       "      <td>Arthropoda</td>\n",
       "      <td>Insecta</td>\n",
       "      <td>Crabronidae</td>\n",
       "      <td>Mimesa</td>\n",
       "      <td>Mimesa cahuilla</td>\n",
       "      <td>CAS Entomology Type (TYPE)</td>\n",
       "    </tr>\n",
       "    <tr>\n",
       "      <th>36435011</th>\n",
       "      <td>2238760894</td>\n",
       "      <td>6ec3c7f5-6233-48f6-b36a-06b867edbadd</td>\n",
       "      <td>urn:catalog:CAS:TYPE:16358</td>\n",
       "      <td>1</td>\n",
       "      <td>None</td>\n",
       "      <td>Adult</td>\n",
       "      <td>1964-06-28</td>\n",
       "      <td>Animalia</td>\n",
       "      <td>Arthropoda</td>\n",
       "      <td>Insecta</td>\n",
       "      <td>Cicadellidae</td>\n",
       "      <td>Anatkina</td>\n",
       "      <td>Anatkina galgala</td>\n",
       "      <td>CAS Entomology Type (TYPE)</td>\n",
       "    </tr>\n",
       "    <tr>\n",
       "      <th>36435012</th>\n",
       "      <td>2238759222</td>\n",
       "      <td>6ec3c7f5-6233-48f6-b36a-06b867edbadd</td>\n",
       "      <td>urn:catalog:CAS:TYPE:15028</td>\n",
       "      <td>1</td>\n",
       "      <td>Female</td>\n",
       "      <td>None</td>\n",
       "      <td>1983-03-23</td>\n",
       "      <td>Animalia</td>\n",
       "      <td>Arthropoda</td>\n",
       "      <td>Insecta</td>\n",
       "      <td>Crabronidae</td>\n",
       "      <td>Tachysphex</td>\n",
       "      <td>Tachysphex tipai</td>\n",
       "      <td>CAS Entomology Type (TYPE)</td>\n",
       "    </tr>\n",
       "    <tr>\n",
       "      <th>36435013</th>\n",
       "      <td>2238760808</td>\n",
       "      <td>6ec3c7f5-6233-48f6-b36a-06b867edbadd</td>\n",
       "      <td>urn:catalog:CAS:TYPE:16354</td>\n",
       "      <td>1</td>\n",
       "      <td>Male</td>\n",
       "      <td>Adult</td>\n",
       "      <td>1974-05-13</td>\n",
       "      <td>Animalia</td>\n",
       "      <td>Arthropoda</td>\n",
       "      <td>Insecta</td>\n",
       "      <td>Crabronidae</td>\n",
       "      <td>Diodontus</td>\n",
       "      <td>Diodontus retiolus</td>\n",
       "      <td>CAS Entomology Type (TYPE)</td>\n",
       "    </tr>\n",
       "  </tbody>\n",
       "</table>\n",
       "<p>36435014 rows × 14 columns</p>\n",
       "</div>"
      ],
      "text/plain": [
       "              gbifID                            datasetKey  \\\n",
       "0         3727011185  8a863029-f435-446a-821e-275f4f641165   \n",
       "1         3726821348  8a863029-f435-446a-821e-275f4f641165   \n",
       "2         3728397952  8a863029-f435-446a-821e-275f4f641165   \n",
       "3         3729197905  8a863029-f435-446a-821e-275f4f641165   \n",
       "4         4956366316  8a863029-f435-446a-821e-275f4f641165   \n",
       "...              ...                                   ...   \n",
       "36435009  2238759095  6ec3c7f5-6233-48f6-b36a-06b867edbadd   \n",
       "36435010  2238758948  6ec3c7f5-6233-48f6-b36a-06b867edbadd   \n",
       "36435011  2238760894  6ec3c7f5-6233-48f6-b36a-06b867edbadd   \n",
       "36435012  2238759222  6ec3c7f5-6233-48f6-b36a-06b867edbadd   \n",
       "36435013  2238760808  6ec3c7f5-6233-48f6-b36a-06b867edbadd   \n",
       "\n",
       "                                           occurrenceID individualCount  \\\n",
       "0         https://observation.org/observation/199755080               1   \n",
       "1         https://observation.org/observation/199975176               1   \n",
       "2         https://observation.org/observation/200915841               1   \n",
       "3         https://observation.org/observation/203869792               1   \n",
       "4         https://observation.org/observation/206509745               1   \n",
       "...                                                 ...             ...   \n",
       "36435009                     urn:catalog:CAS:TYPE:15037               1   \n",
       "36435010                     urn:catalog:CAS:TYPE:15081               1   \n",
       "36435011                     urn:catalog:CAS:TYPE:16358               1   \n",
       "36435012                     urn:catalog:CAS:TYPE:15028               1   \n",
       "36435013                     urn:catalog:CAS:TYPE:16354               1   \n",
       "\n",
       "             sex lifeStage   eventDate   kingdom      phylum    class  \\\n",
       "0           None     Imago  2020-09-02  Animalia  Arthropoda  Insecta   \n",
       "1           None     Imago  2020-09-12  Animalia  Arthropoda  Insecta   \n",
       "2           None     Imago  2020-10-01  Animalia  Arthropoda  Insecta   \n",
       "3         Female      None  2009-06-23  Animalia  Arthropoda  Insecta   \n",
       "4           Male     Imago  2020-07-22  Animalia  Arthropoda  Insecta   \n",
       "...          ...       ...         ...       ...         ...      ...   \n",
       "36435009    None     Adult  1979-08-02  Animalia  Arthropoda  Insecta   \n",
       "36435010    Male     Adult  1977-06-04  Animalia  Arthropoda  Insecta   \n",
       "36435011    None     Adult  1964-06-28  Animalia  Arthropoda  Insecta   \n",
       "36435012  Female      None  1983-03-23  Animalia  Arthropoda  Insecta   \n",
       "36435013    Male     Adult  1974-05-13  Animalia  Arthropoda  Insecta   \n",
       "\n",
       "                family       genus             species  \\\n",
       "0          Nymphalidae      Aglais           Aglais io   \n",
       "1               Apidae        Apis      Apis mellifera   \n",
       "2           Sphingidae  Acherontia  Acherontia atropos   \n",
       "3               Apidae      Bombus   Bombus terrestris   \n",
       "4            Sphecidae   Ammophila  Ammophila sabulosa   \n",
       "...                ...         ...                 ...   \n",
       "36435009   Dermestidae    Novelsis  Novelsis sabulorum   \n",
       "36435010   Crabronidae      Mimesa     Mimesa cahuilla   \n",
       "36435011  Cicadellidae    Anatkina    Anatkina galgala   \n",
       "36435012   Crabronidae  Tachysphex    Tachysphex tipai   \n",
       "36435013   Crabronidae   Diodontus  Diodontus retiolus   \n",
       "\n",
       "                                                datasetName  \n",
       "0         Observation.org, Nature data from around the W...  \n",
       "1         Observation.org, Nature data from around the W...  \n",
       "2         Observation.org, Nature data from around the W...  \n",
       "3         Observation.org, Nature data from around the W...  \n",
       "4         Observation.org, Nature data from around the W...  \n",
       "...                                                     ...  \n",
       "36435009                         CAS Entomology Type (TYPE)  \n",
       "36435010                         CAS Entomology Type (TYPE)  \n",
       "36435011                         CAS Entomology Type (TYPE)  \n",
       "36435012                         CAS Entomology Type (TYPE)  \n",
       "36435013                         CAS Entomology Type (TYPE)  \n",
       "\n",
       "[36435014 rows x 14 columns]"
      ]
     },
     "metadata": {},
     "output_type": "display_data"
    }
   ],
   "source": [
    "import pandas as pd\n",
    "import duckdb\n",
    "import os\n",
    "\n",
    "path = \"../gbif_url_dataset.parquet\"\n",
    "if os.path.exists(path):\n",
    "    df = pd.read_parquet(path)\n",
    "    display(df)\n",
    "else:\n",
    "    display(f\"File {path} does not exist\")"
   ]
  },
  {
   "cell_type": "code",
   "execution_count": null,
   "metadata": {},
   "outputs": [
    {
     "data": {
      "text/plain": [
       "36435014"
      ]
     },
     "execution_count": 8,
     "metadata": {},
     "output_type": "execute_result"
    }
   ],
   "source": [
    "unique_datasets = df['datasetName']\n",
    "unique_datasets"
   ]
  },
  {
   "cell_type": "code",
   "execution_count": 4,
   "metadata": {},
   "outputs": [
    {
     "ename": "IOException",
     "evalue": "IO Error: Could not read enough bytes from file \"/Users/zideng/Work/github/LDAWT/jupyter/../gbif_data.duckdb\": attempted to read 262144 bytes from location 25070153728",
     "output_type": "error",
     "traceback": [
      "\u001b[31m---------------------------------------------------------------------------\u001b[39m",
      "\u001b[31mIOException\u001b[39m                               Traceback (most recent call last)",
      "\u001b[36mCell\u001b[39m\u001b[36m \u001b[39m\u001b[32mIn[4]\u001b[39m\u001b[32m, line 10\u001b[39m\n\u001b[32m      6\u001b[39m SQL = \u001b[33m\"\"\"\u001b[39m\u001b[33m \u001b[39m\n\u001b[32m      7\u001b[39m \u001b[33mSHOW TABLES;\u001b[39m\n\u001b[32m      8\u001b[39m \u001b[33m\"\"\"\u001b[39m\n\u001b[32m      9\u001b[39m \u001b[38;5;28;01mif\u001b[39;00m os.path.exists(path):\n\u001b[32m---> \u001b[39m\u001b[32m10\u001b[39m     conn = duckdb.connect(path)\n\u001b[32m     11\u001b[39m     df = conn.sql(SQL).to_df()\n\u001b[32m     12\u001b[39m     display(df)\n",
      "\u001b[31mIOException\u001b[39m: IO Error: Could not read enough bytes from file \"/Users/zideng/Work/github/LDAWT/jupyter/../gbif_data.duckdb\": attempted to read 262144 bytes from location 25070153728"
     ]
    }
   ],
   "source": [
    "import pandas as pd\n",
    "import duckdb\n",
    "import os\n",
    "\n",
    "path = \"../gbif_data.duckdb\"\n",
    "SQL = \"\"\" \n",
    "SHOW TABLES;\n",
    "\"\"\"\n",
    "if os.path.exists(path):\n",
    "    conn = duckdb.connect(path)\n",
    "    df = conn.sql(SQL).to_df()\n",
    "    display(df)\n",
    "else:\n",
    "    display(f\"File {path} does not exist\")"
   ]
  }
 ],
 "metadata": {
  "kernelspec": {
   "display_name": "Python 3",
   "language": "python",
   "name": "python3"
  },
  "language_info": {
   "codemirror_mode": {
    "name": "ipython",
    "version": 3
   },
   "file_extension": ".py",
   "mimetype": "text/x-python",
   "name": "python",
   "nbconvert_exporter": "python",
   "pygments_lexer": "ipython3",
   "version": "3.12.0"
  }
 },
 "nbformat": 4,
 "nbformat_minor": 2
}
