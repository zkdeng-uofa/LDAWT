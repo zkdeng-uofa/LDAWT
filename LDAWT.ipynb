{
 "cells": [
  {
   "cell_type": "code",
   "execution_count": 1,
   "metadata": {},
   "outputs": [],
   "source": [
    "import ndcctools.taskvine as vine\n",
    "import json\n",
    "import os"
   ]
  },
  {
   "cell_type": "code",
   "execution_count": 2,
   "metadata": {},
   "outputs": [
    {
     "name": "stdout",
     "output_type": "stream",
     "text": [
      "group_1.parquet   group_3.parquet  group_6.parquet  group_9.parquet\n",
      "group_10.parquet  group_4.parquet  group_7.parquet\n",
      "group_2.parquet   group_5.parquet  group_8.parquet\n"
     ]
    }
   ],
   "source": [
    "!ls data/parquet/10split"
   ]
  },
  {
   "cell_type": "code",
   "execution_count": 3,
   "metadata": {},
   "outputs": [
    {
     "name": "stdout",
     "output_type": "stream",
     "text": [
      "My local IP addresses are: 10.140.86.137 169.254.95.120 10.0.86.137\n",
      "10.140.86.137\n"
     ]
    }
   ],
   "source": [
    "import subprocess\n",
    "\n",
    "def get_local_ip():\n",
    "    try:\n",
    "        # Run the 'hostname -I' command\n",
    "        result = subprocess.run(['hostname', '-I'], stdout=subprocess.PIPE, stderr=subprocess.PIPE, text=True)\n",
    "        # Get the output, strip any extra spaces or newlines\n",
    "        ip_addresses = result.stdout.strip()\n",
    "        return ip_addresses\n",
    "    except subprocess.CalledProcessError as e:\n",
    "        return f\"Error: {e}\"\n",
    "\n",
    "# Get and print the local IP addresses\n",
    "local_ips = get_local_ip()\n",
    "print(f\"My local IP addresses are: {local_ips}\")\n",
    "print(local_ips.split()[0])\n",
    "managerIp = local_ips.split()[0]"
   ]
  },
  {
   "cell_type": "code",
   "execution_count": 4,
   "metadata": {},
   "outputs": [],
   "source": [
    "slurm_script = \"\"\"#!/bin/bash\n",
    "#SBATCH --job-name=taskvine           \n",
    "#SBATCH --output=result.out           \n",
    "#SBATCH --account=nirav\n",
    "#SBATCH --partition=standard           \n",
    "#SBATCH --nodes=1\n",
    "#SBATCH --ntasks=2                    \n",
    "#SBATCH --time=01:00:00               \n",
    "\n",
    "# Load any necessary modules\n",
    "module load python/3.9\n",
    "source ~/.bashrc\n",
    "conda init bash\n",
    "conda init\n",
    "conda activate taskvine\n",
    "\n",
    "# Execute the Python script or command\n",
    "vine_submit_workers -T slurm -p \"--cpus-per-task=4 --time=1:00:00\" -t 01:00:00 \"\"\"+managerIp+\"\"\" 9124 10\n",
    "\n",
    "\"\"\""
   ]
  },
  {
   "cell_type": "code",
   "execution_count": 5,
   "metadata": {},
   "outputs": [
    {
     "name": "stdout",
     "output_type": "stream",
     "text": [
      "SLURM script saved as taskvine.slurm\n"
     ]
    }
   ],
   "source": [
    "slurm_filename = \"taskvine.slurm\"\n",
    "with open(slurm_filename, \"w\") as slurm_file:\n",
    "    slurm_file.write(slurm_script)\n",
    "\n",
    "print(f\"SLURM script saved as {slurm_filename}\")"
   ]
  },
  {
   "cell_type": "code",
   "execution_count": 6,
   "metadata": {},
   "outputs": [
    {
     "name": "stdout",
     "output_type": "stream",
     "text": [
      "Submitted batch job 2146022\n",
      "Listening on port 9124\n",
      "Waiting for tasks to complete...\n",
      "100%|██████████| 10000/10000 [01:04<00:00, 154.96it/s]\n",
      "Completed with 78 errors.\n",
      "Tared output folder into: /tmp/worker-2299-11626/task.8/group_8.tar.gz\n",
      "\n",
      "100%|██████████| 10000/10000 [00:47<00:00, 211.49it/s]\n",
      "Completed with 55 errors.\n",
      "Tared output folder into: /tmp/worker-2299-19734/task.9/group_6.tar.gz\n",
      "\n",
      "100%|██████████| 10000/10000 [01:43<00:00, 97.00it/s]\n",
      "Completed with 83 errors.\n",
      "Tared output folder into: /tmp/worker-2299-9400/task.10/group_9.tar.gz\n",
      "\n",
      "100%|██████████| 10000/10000 [00:42<00:00, 235.81it/s]\n",
      "Completed with 58 errors.\n",
      "Tared output folder into: /tmp/worker-2299-1339/task.3/group_4.tar.gz\n",
      "\n",
      "100%|██████████| 10000/10000 [01:10<00:00, 140.94it/s]\n",
      "Completed with 49 errors.\n",
      "Tared output folder into: /tmp/worker-2299-11624/task.4/group_7.tar.gz\n",
      "\n",
      "100%|██████████| 10000/10000 [01:57<00:00, 84.96it/s]\n",
      "Completed with 44 errors.\n",
      "Tared output folder into: /tmp/worker-2299-9401/task.2/group_5.tar.gz\n",
      "\n",
      "100%|██████████| 10000/10000 [01:17<00:00, 128.48it/s]\n",
      "Completed with 67 errors.\n",
      "Tared output folder into: /tmp/worker-2299-10229/task.1/group_3.tar.gz\n",
      "\n",
      "100%|██████████| 10000/10000 [01:19<00:00, 125.59it/s]\n",
      "Completed with 33 errors.\n",
      "Tared output folder into: /tmp/worker-2299-10228/task.7/group_1.tar.gz\n",
      "\n",
      "100%|██████████| 10000/10000 [01:52<00:00, 89.22it/s]\n",
      "Completed with 21 errors.\n",
      "Tared output folder into: /tmp/worker-2299-9399/task.5/group_2.tar.gz\n",
      "\n",
      "Process is interrupted.\n"
     ]
    }
   ],
   "source": [
    "%%bash\n",
    "python bin/TaskvineLDAWT.py &\n",
    "sbatch taskvine.slurm"
   ]
  },
  {
   "cell_type": "code",
   "execution_count": null,
   "metadata": {},
   "outputs": [],
   "source": []
  }
 ],
 "metadata": {
  "kernelspec": {
   "display_name": "Python 3.12.6 ('taskvine')",
   "language": "python",
   "name": "python3"
  },
  "language_info": {
   "codemirror_mode": {
    "name": "ipython",
    "version": 3
   },
   "file_extension": ".py",
   "mimetype": "text/x-python",
   "name": "python",
   "nbconvert_exporter": "python",
   "pygments_lexer": "ipython3",
   "version": "3.12.6"
  },
  "vscode": {
   "interpreter": {
    "hash": "fa8b9965122b155d9ddf75577f35f03ed036cb724275d617c4f22819dafd9510"
   }
  }
 },
 "nbformat": 4,
 "nbformat_minor": 2
}
