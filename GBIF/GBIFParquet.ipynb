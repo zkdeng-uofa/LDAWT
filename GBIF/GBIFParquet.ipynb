{
 "cells": [
  {
   "cell_type": "code",
   "execution_count": 7,
   "metadata": {},
   "outputs": [],
   "source": [
    "import pandas as pd\n",
    "import dask.dataframe as dd"
   ]
  },
  {
   "cell_type": "markdown",
   "metadata": {},
   "source": [
    "Populate python and environment variables using local files."
   ]
  },
  {
   "cell_type": "code",
   "execution_count": 8,
   "metadata": {},
   "outputs": [
    {
     "name": "stdout",
     "output_type": "stream",
     "text": [
      "env: INPUT_FOLDER=rosa\n",
      "env: PARQUET_NAME=rosa_corymbifera.parquet\n",
      "env: OUTPUT_TAR=rosa_corymbifera.tar.gz\n",
      "env: URL_NAME=identifier\n",
      "env: CLASS_NAME=species\n"
     ]
    }
   ],
   "source": [
    "input_folder = 'rosa'\n",
    "parquet_name = 'rosa_corymbifera.parquet'\n",
    "%env INPUT_FOLDER=$input_folder\n",
    "%env PARQUET_NAME=$parquet_name\n",
    "\n",
    "\n",
    "output_tar = 'rosa_corymbifera.tar.gz'\n",
    "url_name = 'identifier'\n",
    "class_name = 'species'\n",
    "%env OUTPUT_TAR=$output_tar\n",
    "%env URL_NAME=$url_name\n",
    "%env CLASS_NAME=$class_name\n"
   ]
  },
  {
   "cell_type": "markdown",
   "metadata": {},
   "source": [
    "Run GBIF metadata generation script"
   ]
  },
  {
   "cell_type": "code",
   "execution_count": 9,
   "metadata": {},
   "outputs": [
    {
     "name": "stdout",
     "output_type": "stream",
     "text": [
      "[########################################] | 100% Completed | 101.86 ms\n"
     ]
    },
    {
     "name": "stderr",
     "output_type": "stream",
     "text": [
      "Saving to Parquet: 100%|██████████| 1/1 [00:00<00:00, 40.59it/s]\n"
     ]
    },
    {
     "name": "stdout",
     "output_type": "stream",
     "text": [
      "Completed successfully.\n"
     ]
    },
    {
     "name": "stderr",
     "output_type": "stream",
     "text": [
      "\n",
      "real\t0m5.771s\n",
      "user\t0m2.337s\n",
      "sys\t0m0.568s\n"
     ]
    },
    {
     "name": "stdout",
     "output_type": "stream",
     "text": [
      "rosa_corymbifera.parquet\n"
     ]
    }
   ],
   "source": [
    "%%bash\n",
    "time python bin/GBIFMeta.py --input_folder $INPUT_FOLDER --output_name $PARQUET_NAME\n",
    "ls data/parquet"
   ]
  },
  {
   "cell_type": "markdown",
   "metadata": {},
   "source": [
    "Run Image Downloading Script"
   ]
  },
  {
   "cell_type": "code",
   "execution_count": 10,
   "metadata": {},
   "outputs": [
    {
     "name": "stderr",
     "output_type": "stream",
     "text": [
      "100%|██████████| 1012/1012 [01:04<00:00, 15.75it/s]\n"
     ]
    },
    {
     "name": "stdout",
     "output_type": "stream",
     "text": [
      "Completed with 0 errors.\n",
      "Tared output folder into: /xdisk/nirav/zkdeng/github/iNaturalist/GBIFDownload/data/rosa_corymbifera.tar.gz\n"
     ]
    },
    {
     "name": "stderr",
     "output_type": "stream",
     "text": [
      "\n",
      "real\t4m49.666s\n",
      "user\t4m0.145s\n",
      "sys\t0m16.598s\n"
     ]
    }
   ],
   "source": [
    "%%bash\n",
    "time python bin/ImgDownload.py --input_path data/parquet/$PARQUET_NAME --output_tar data/$OUTPUT_TAR --url_name $URL_NAME --class_name $CLASS_NAME"
   ]
  }
 ],
 "metadata": {
  "kernelspec": {
   "display_name": "Python 3.12.6 ('taskvine')",
   "language": "python",
   "name": "python3"
  },
  "language_info": {
   "codemirror_mode": {
    "name": "ipython",
    "version": 3
   },
   "file_extension": ".py",
   "mimetype": "text/x-python",
   "name": "python",
   "nbconvert_exporter": "python",
   "pygments_lexer": "ipython3",
   "version": "3.12.6"
  },
  "vscode": {
   "interpreter": {
    "hash": "fa8b9965122b155d9ddf75577f35f03ed036cb724275d617c4f22819dafd9510"
   }
  }
 },
 "nbformat": 4,
 "nbformat_minor": 2
}
